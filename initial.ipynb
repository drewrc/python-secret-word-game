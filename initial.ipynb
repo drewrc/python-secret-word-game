{
 "cells": [
  {
   "cell_type": "code",
   "execution_count": 1,
   "id": "b38f8f39",
   "metadata": {},
   "outputs": [
    {
     "name": "stdout",
     "output_type": "stream",
     "text": [
      "Enter player name: drew\n",
      "Start guessing, drew\n",
      "You won\n"
     ]
    }
   ],
   "source": [
    "import random\n",
    "from words_list import word_list\n",
    "\n",
    "playername = input(\"Enter player name: \")\n",
    "\n",
    "print (\"Start guessing,\", playername)\n",
    "\n",
    "#choose random word from array\n",
    "def word():\n",
    "    word = random.choice(word_list)\n",
    "    return word.upper()\n",
    "\n",
    "selected_word = word()\n",
    "player_guesses = ''\n",
    "round = 6;\n",
    "\n",
    "#check if the turns are more than zero\n",
    "while round > 0:         \n",
    "\n",
    "    failed = 0       \n",
    "\n",
    "    #for every character   \n",
    "    for char in selected_word:      \n",
    "\n",
    "        if char in player_guesses:    \n",
    "            print (char),    \n",
    "\n",
    "\n",
    "    if failed < 6:        \n",
    "        print (\"You won\")\n",
    "        break            \n"
   ]
  },
  {
   "cell_type": "code",
   "execution_count": null,
   "id": "efcf5966",
   "metadata": {},
   "outputs": [],
   "source": []
  }
 ],
 "metadata": {
  "kernelspec": {
   "display_name": "Python 3",
   "language": "python",
   "name": "python3"
  },
  "language_info": {
   "codemirror_mode": {
    "name": "ipython",
    "version": 3
   },
   "file_extension": ".py",
   "mimetype": "text/x-python",
   "name": "python",
   "nbconvert_exporter": "python",
   "pygments_lexer": "ipython3",
   "version": "3.8.9 (default, Apr 13 2022, 08:48:06) \n[Clang 13.1.6 (clang-1316.0.21.2.5)]"
  },
  "vscode": {
   "interpreter": {
    "hash": "31f2aee4e71d21fbe5cf8b01ff0e069b9275f58929596ceb00d14d90e3e16cd6"
   }
  }
 },
 "nbformat": 4,
 "nbformat_minor": 5
}
