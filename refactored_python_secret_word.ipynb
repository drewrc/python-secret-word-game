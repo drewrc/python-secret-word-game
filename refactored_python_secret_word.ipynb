{
 "cells": [
  {
   "cell_type": "code",
   "execution_count": null,
   "id": "d2dcbd51",
   "metadata": {},
   "outputs": [],
   "source": [
    "import random\n",
    "word_list = ['cat', 'dog', 'mouse', 'fish', 'ramen', 'naruto', 'sauske', 'Kisame-Hoshigaki']\n",
    "\n",
    "#random word from an array 'word_list'\n",
    "word = random.choice(word_list)\n",
    "\n",
    "print(\"Guess a letter: \")\n",
    "\n",
    "guesses = \"\"\n",
    "turns = 6\n",
    "\n",
    "#while turns is greater than 0 // (initialized at 6)\n",
    "\n",
    "while turns > 0:\n",
    "    missing_letters = 0\n",
    "    \n",
    "    for char in word:\n",
    "        if char in guesses:\n",
    "            print(char, end = \" \")\n",
    "        else:\n",
    "            print('_', end = \" \")\n",
    "            missing_letters += 1\n",
    "            \n",
    "    if missing_letters == 0:\n",
    "        print(\"Yay! You guessed the word.\")\n",
    "        break\n",
    "    guess = input('Guess a letter: ')\n",
    "    guesses += guess\n",
    "        \n",
    "    #lose turn if guess not in word \n",
    "    if guess not in word:\n",
    "        turns -= 1\n",
    "        print(\"You guessed wrong.\")\n",
    "    if turns == 0: \n",
    "        print(\"You lose!\")\n",
    "            "
   ]
  },
  {
   "cell_type": "code",
   "execution_count": null,
   "id": "bbaf2f42",
   "metadata": {},
   "outputs": [],
   "source": []
  },
  {
   "cell_type": "code",
   "execution_count": null,
   "id": "8b994dc7",
   "metadata": {},
   "outputs": [],
   "source": []
  },
  {
   "cell_type": "code",
   "execution_count": null,
   "id": "ff3772f0",
   "metadata": {},
   "outputs": [],
   "source": []
  },
  {
   "cell_type": "code",
   "execution_count": null,
   "id": "3d5b0551",
   "metadata": {},
   "outputs": [],
   "source": []
  }
 ],
 "metadata": {
  "kernelspec": {
   "display_name": "Python 3",
   "language": "python",
   "name": "python3"
  },
  "language_info": {
   "codemirror_mode": {
    "name": "ipython",
    "version": 3
   },
   "file_extension": ".py",
   "mimetype": "text/x-python",
   "name": "python",
   "nbconvert_exporter": "python",
   "pygments_lexer": "ipython3",
   "version": "3.8.9 (default, Apr 13 2022, 08:48:06) \n[Clang 13.1.6 (clang-1316.0.21.2.5)]"
  },
  "vscode": {
   "interpreter": {
    "hash": "31f2aee4e71d21fbe5cf8b01ff0e069b9275f58929596ceb00d14d90e3e16cd6"
   }
  }
 },
 "nbformat": 4,
 "nbformat_minor": 5
}
